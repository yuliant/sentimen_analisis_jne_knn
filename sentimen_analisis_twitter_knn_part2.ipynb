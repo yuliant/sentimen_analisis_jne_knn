{
  "nbformat": 4,
  "nbformat_minor": 0,
  "metadata": {
    "colab": {
      "provenance": [],
      "authorship_tag": "ABX9TyNFcfQjpYnIDTwWkqwU8TB+",
      "include_colab_link": true
    },
    "kernelspec": {
      "name": "python3",
      "display_name": "Python 3"
    },
    "language_info": {
      "name": "python"
    }
  },
  "cells": [
    {
      "cell_type": "markdown",
      "metadata": {
        "id": "view-in-github",
        "colab_type": "text"
      },
      "source": [
        "<a href=\"https://colab.research.google.com/github/yuliant/sentimen_analisis_jne_knn/blob/main/sentimen_analisis_twitter_knn_part2.ipynb\" target=\"_parent\"><img src=\"https://colab.research.google.com/assets/colab-badge.svg\" alt=\"Open In Colab\"/></a>"
      ]
    },
    {
      "cell_type": "code",
      "execution_count": 1,
      "metadata": {
        "id": "Mmw8eHPi5P94"
      },
      "outputs": [],
      "source": [
        "import pandas as pd\n",
        "import numpy as np"
      ]
    },
    {
      "cell_type": "code",
      "source": [
        "#periksa data dan urutkan berdasarkan tanggal\n",
        "csv = pd.read_csv('data_search.csv')\n",
        "csv.sort_values(by=\"Tanggal\", ascending=False).head(5)"
      ],
      "metadata": {
        "colab": {
          "base_uri": "https://localhost:8080/",
          "height": 206
        },
        "id": "K5rdVecbJslY",
        "outputId": "b2b29c6d-c452-4e1f-c064-205b8151a308"
      },
      "execution_count": 3,
      "outputs": [
        {
          "output_type": "execute_result",
          "data": {
            "text/plain": [
              "   Unnamed: 0              Tanggal      Pengguna  \\\n",
              "0           0  2023-02-14 14:34:29   ktaehyun__g   \n",
              "1           1  2023-02-14 14:32:53     sweebypie   \n",
              "2           2  2023-02-14 14:25:21     doyok__31   \n",
              "3           3  2023-02-14 14:24:32  kafie_ribedz   \n",
              "4           4  2023-02-14 14:16:59   asiaticakjw   \n",
              "\n",
              "                                               Tweet Sentimen  \n",
              "0                              _ID tolong cek dm min   Netral  \n",
              "1  ini aku 11kg karena kena volume. harusnya 8kg ...   Netral  \n",
              "2               _ID Kapan sampe nya ke rumah saya ya   Netral  \n",
              "3  Hai admin, masih di ngirim paket di jne rawaku...   Netral  \n",
              "4  jne cargo emg mahal nder klo mau yg murah cb p...   Netral  "
            ],
            "text/html": [
              "\n",
              "  <div id=\"df-ae379d2f-707d-4a75-bbe4-a76269cde99a\">\n",
              "    <div class=\"colab-df-container\">\n",
              "      <div>\n",
              "<style scoped>\n",
              "    .dataframe tbody tr th:only-of-type {\n",
              "        vertical-align: middle;\n",
              "    }\n",
              "\n",
              "    .dataframe tbody tr th {\n",
              "        vertical-align: top;\n",
              "    }\n",
              "\n",
              "    .dataframe thead th {\n",
              "        text-align: right;\n",
              "    }\n",
              "</style>\n",
              "<table border=\"1\" class=\"dataframe\">\n",
              "  <thead>\n",
              "    <tr style=\"text-align: right;\">\n",
              "      <th></th>\n",
              "      <th>Unnamed: 0</th>\n",
              "      <th>Tanggal</th>\n",
              "      <th>Pengguna</th>\n",
              "      <th>Tweet</th>\n",
              "      <th>Sentimen</th>\n",
              "    </tr>\n",
              "  </thead>\n",
              "  <tbody>\n",
              "    <tr>\n",
              "      <th>0</th>\n",
              "      <td>0</td>\n",
              "      <td>2023-02-14 14:34:29</td>\n",
              "      <td>ktaehyun__g</td>\n",
              "      <td>_ID tolong cek dm min</td>\n",
              "      <td>Netral</td>\n",
              "    </tr>\n",
              "    <tr>\n",
              "      <th>1</th>\n",
              "      <td>1</td>\n",
              "      <td>2023-02-14 14:32:53</td>\n",
              "      <td>sweebypie</td>\n",
              "      <td>ini aku 11kg karena kena volume. harusnya 8kg ...</td>\n",
              "      <td>Netral</td>\n",
              "    </tr>\n",
              "    <tr>\n",
              "      <th>2</th>\n",
              "      <td>2</td>\n",
              "      <td>2023-02-14 14:25:21</td>\n",
              "      <td>doyok__31</td>\n",
              "      <td>_ID Kapan sampe nya ke rumah saya ya</td>\n",
              "      <td>Netral</td>\n",
              "    </tr>\n",
              "    <tr>\n",
              "      <th>3</th>\n",
              "      <td>3</td>\n",
              "      <td>2023-02-14 14:24:32</td>\n",
              "      <td>kafie_ribedz</td>\n",
              "      <td>Hai admin, masih di ngirim paket di jne rawaku...</td>\n",
              "      <td>Netral</td>\n",
              "    </tr>\n",
              "    <tr>\n",
              "      <th>4</th>\n",
              "      <td>4</td>\n",
              "      <td>2023-02-14 14:16:59</td>\n",
              "      <td>asiaticakjw</td>\n",
              "      <td>jne cargo emg mahal nder klo mau yg murah cb p...</td>\n",
              "      <td>Netral</td>\n",
              "    </tr>\n",
              "  </tbody>\n",
              "</table>\n",
              "</div>\n",
              "      <button class=\"colab-df-convert\" onclick=\"convertToInteractive('df-ae379d2f-707d-4a75-bbe4-a76269cde99a')\"\n",
              "              title=\"Convert this dataframe to an interactive table.\"\n",
              "              style=\"display:none;\">\n",
              "        \n",
              "  <svg xmlns=\"http://www.w3.org/2000/svg\" height=\"24px\"viewBox=\"0 0 24 24\"\n",
              "       width=\"24px\">\n",
              "    <path d=\"M0 0h24v24H0V0z\" fill=\"none\"/>\n",
              "    <path d=\"M18.56 5.44l.94 2.06.94-2.06 2.06-.94-2.06-.94-.94-2.06-.94 2.06-2.06.94zm-11 1L8.5 8.5l.94-2.06 2.06-.94-2.06-.94L8.5 2.5l-.94 2.06-2.06.94zm10 10l.94 2.06.94-2.06 2.06-.94-2.06-.94-.94-2.06-.94 2.06-2.06.94z\"/><path d=\"M17.41 7.96l-1.37-1.37c-.4-.4-.92-.59-1.43-.59-.52 0-1.04.2-1.43.59L10.3 9.45l-7.72 7.72c-.78.78-.78 2.05 0 2.83L4 21.41c.39.39.9.59 1.41.59.51 0 1.02-.2 1.41-.59l7.78-7.78 2.81-2.81c.8-.78.8-2.07 0-2.86zM5.41 20L4 18.59l7.72-7.72 1.47 1.35L5.41 20z\"/>\n",
              "  </svg>\n",
              "      </button>\n",
              "      \n",
              "  <style>\n",
              "    .colab-df-container {\n",
              "      display:flex;\n",
              "      flex-wrap:wrap;\n",
              "      gap: 12px;\n",
              "    }\n",
              "\n",
              "    .colab-df-convert {\n",
              "      background-color: #E8F0FE;\n",
              "      border: none;\n",
              "      border-radius: 50%;\n",
              "      cursor: pointer;\n",
              "      display: none;\n",
              "      fill: #1967D2;\n",
              "      height: 32px;\n",
              "      padding: 0 0 0 0;\n",
              "      width: 32px;\n",
              "    }\n",
              "\n",
              "    .colab-df-convert:hover {\n",
              "      background-color: #E2EBFA;\n",
              "      box-shadow: 0px 1px 2px rgba(60, 64, 67, 0.3), 0px 1px 3px 1px rgba(60, 64, 67, 0.15);\n",
              "      fill: #174EA6;\n",
              "    }\n",
              "\n",
              "    [theme=dark] .colab-df-convert {\n",
              "      background-color: #3B4455;\n",
              "      fill: #D2E3FC;\n",
              "    }\n",
              "\n",
              "    [theme=dark] .colab-df-convert:hover {\n",
              "      background-color: #434B5C;\n",
              "      box-shadow: 0px 1px 3px 1px rgba(0, 0, 0, 0.15);\n",
              "      filter: drop-shadow(0px 1px 2px rgba(0, 0, 0, 0.3));\n",
              "      fill: #FFFFFF;\n",
              "    }\n",
              "  </style>\n",
              "\n",
              "      <script>\n",
              "        const buttonEl =\n",
              "          document.querySelector('#df-ae379d2f-707d-4a75-bbe4-a76269cde99a button.colab-df-convert');\n",
              "        buttonEl.style.display =\n",
              "          google.colab.kernel.accessAllowed ? 'block' : 'none';\n",
              "\n",
              "        async function convertToInteractive(key) {\n",
              "          const element = document.querySelector('#df-ae379d2f-707d-4a75-bbe4-a76269cde99a');\n",
              "          const dataTable =\n",
              "            await google.colab.kernel.invokeFunction('convertToInteractive',\n",
              "                                                     [key], {});\n",
              "          if (!dataTable) return;\n",
              "\n",
              "          const docLinkHtml = 'Like what you see? Visit the ' +\n",
              "            '<a target=\"_blank\" href=https://colab.research.google.com/notebooks/data_table.ipynb>data table notebook</a>'\n",
              "            + ' to learn more about interactive tables.';\n",
              "          element.innerHTML = '';\n",
              "          dataTable['output_type'] = 'display_data';\n",
              "          await google.colab.output.renderOutput(dataTable, element);\n",
              "          const docLink = document.createElement('div');\n",
              "          docLink.innerHTML = docLinkHtml;\n",
              "          element.appendChild(docLink);\n",
              "        }\n",
              "      </script>\n",
              "    </div>\n",
              "  </div>\n",
              "  "
            ]
          },
          "metadata": {},
          "execution_count": 3
        }
      ]
    },
    {
      "cell_type": "markdown",
      "source": [
        "# PROSES 2 - FILTERING"
      ],
      "metadata": {
        "id": "cwY1RMaRN2vv"
      }
    },
    {
      "cell_type": "code",
      "source": [
        "!pip install sastrawi"
      ],
      "metadata": {
        "colab": {
          "base_uri": "https://localhost:8080/"
        },
        "id": "w8AFpQLEOA1M",
        "outputId": "f78163e4-408a-421a-8ae5-386af2334de6"
      },
      "execution_count": 4,
      "outputs": [
        {
          "output_type": "stream",
          "name": "stdout",
          "text": [
            "Looking in indexes: https://pypi.org/simple, https://us-python.pkg.dev/colab-wheels/public/simple/\n",
            "Collecting sastrawi\n",
            "  Downloading Sastrawi-1.0.1-py2.py3-none-any.whl (209 kB)\n",
            "\u001b[2K     \u001b[90m━━━━━━━━━━━━━━━━━━━━━━━━━━━━━━━━━━━━━━━\u001b[0m \u001b[32m209.7/209.7 KB\u001b[0m \u001b[31m7.7 MB/s\u001b[0m eta \u001b[36m0:00:00\u001b[0m\n",
            "\u001b[?25hInstalling collected packages: sastrawi\n",
            "Successfully installed sastrawi-1.0.1\n"
          ]
        }
      ]
    },
    {
      "cell_type": "code",
      "source": [
        "!pip install vaderSentiment"
      ],
      "metadata": {
        "colab": {
          "base_uri": "https://localhost:8080/"
        },
        "id": "57DN_BCuOOUn",
        "outputId": "bb193fa5-f6ff-4c5b-abfd-bebbc6c42323"
      },
      "execution_count": 5,
      "outputs": [
        {
          "output_type": "stream",
          "name": "stdout",
          "text": [
            "Looking in indexes: https://pypi.org/simple, https://us-python.pkg.dev/colab-wheels/public/simple/\n",
            "Collecting vaderSentiment\n",
            "  Downloading vaderSentiment-3.3.2-py2.py3-none-any.whl (125 kB)\n",
            "\u001b[2K     \u001b[90m━━━━━━━━━━━━━━━━━━━━━━━━━━━━━━━━━━━━━━━\u001b[0m \u001b[32m126.0/126.0 KB\u001b[0m \u001b[31m6.5 MB/s\u001b[0m eta \u001b[36m0:00:00\u001b[0m\n",
            "\u001b[?25hRequirement already satisfied: requests in /usr/local/lib/python3.8/dist-packages (from vaderSentiment) (2.25.1)\n",
            "Requirement already satisfied: chardet<5,>=3.0.2 in /usr/local/lib/python3.8/dist-packages (from requests->vaderSentiment) (4.0.0)\n",
            "Requirement already satisfied: idna<3,>=2.5 in /usr/local/lib/python3.8/dist-packages (from requests->vaderSentiment) (2.10)\n",
            "Requirement already satisfied: certifi>=2017.4.17 in /usr/local/lib/python3.8/dist-packages (from requests->vaderSentiment) (2022.12.7)\n",
            "Requirement already satisfied: urllib3<1.27,>=1.21.1 in /usr/local/lib/python3.8/dist-packages (from requests->vaderSentiment) (1.24.3)\n",
            "Installing collected packages: vaderSentiment\n",
            "Successfully installed vaderSentiment-3.3.2\n"
          ]
        }
      ]
    },
    {
      "cell_type": "code",
      "source": [
        "import matplotlib.pyplot as plt\n",
        "import re\n",
        "import string\n",
        "import nltk\n",
        "from nltk.sentiment.vader import SentimentIntensityAnalyzer"
      ],
      "metadata": {
        "id": "rcvVrikGOWBX"
      },
      "execution_count": 6,
      "outputs": []
    },
    {
      "cell_type": "code",
      "source": [
        "csv.shape"
      ],
      "metadata": {
        "colab": {
          "base_uri": "https://localhost:8080/"
        },
        "id": "hYXDG8CXOzGb",
        "outputId": "e9cc287d-445b-46bc-8f80-16e5fed30b17"
      },
      "execution_count": 7,
      "outputs": [
        {
          "output_type": "execute_result",
          "data": {
            "text/plain": [
              "(100, 5)"
            ]
          },
          "metadata": {},
          "execution_count": 7
        }
      ]
    },
    {
      "cell_type": "code",
      "source": [
        "#menambahkan kolom baru yaitu \"label\"\n",
        "#Netral = 0\n",
        "#Positif = 1\n",
        "#Negatif = 2\n",
        "\n",
        "sentimen = []\n",
        "for index, row in csv.iterrows():\n",
        "  if row['Sentimen'] == 'Netral':\n",
        "    sentimen.append('0')\n",
        "  elif row['Sentimen'] == 'Positif':\n",
        "    sentimen.append('1')\n",
        "  else:\n",
        "    sentimen.append('2')\n",
        "\n",
        "csv['label'] = sentimen\n",
        "csv.head(15)\n"
      ],
      "metadata": {
        "colab": {
          "base_uri": "https://localhost:8080/",
          "height": 519
        },
        "id": "-tfXMluvPH0S",
        "outputId": "786fe2c0-2c33-4509-beed-9f272fbc61e7"
      },
      "execution_count": 9,
      "outputs": [
        {
          "output_type": "execute_result",
          "data": {
            "text/plain": [
              "    Unnamed: 0              Tanggal         Pengguna  \\\n",
              "0            0  2023-02-14 14:34:29      ktaehyun__g   \n",
              "1            1  2023-02-14 14:32:53        sweebypie   \n",
              "2            2  2023-02-14 14:25:21        doyok__31   \n",
              "3            3  2023-02-14 14:24:32     kafie_ribedz   \n",
              "4            4  2023-02-14 14:16:59      asiaticakjw   \n",
              "5            5  2023-02-14 14:05:57          JNECare   \n",
              "6            6  2023-02-14 14:04:31          FicoFey   \n",
              "7            7  2023-02-14 14:02:56          hmmitha   \n",
              "8            8  2023-02-14 14:02:53          JNE_RPW   \n",
              "9            9  2023-02-14 13:57:56    Trililililily   \n",
              "10          10  2023-02-14 13:56:55  DoYourThangWhMe   \n",
              "11          11  2023-02-14 13:54:18          ikul101   \n",
              "12          12  2023-02-14 13:53:58        JoPermadi   \n",
              "13          13  2023-02-14 13:51:32        sweebypie   \n",
              "14          14  2023-02-14 13:45:39          JNE_DPS   \n",
              "\n",
              "                                                Tweet Sentimen label  \n",
              "0                               _ID tolong cek dm min   Netral     0  \n",
              "1   ini aku 11kg karena kena volume. harusnya 8kg ...   Netral     0  \n",
              "2                _ID Kapan sampe nya ke rumah saya ya   Netral     0  \n",
              "3   Hai admin, masih di ngirim paket di jne rawaku...   Netral     0  \n",
              "4   jne cargo emg mahal nder klo mau yg murah cb p...   Netral     0  \n",
              "5   Sama-sama kak, Terima kasih telah menggunakan ...  Positif     1  \n",
              "6   Iya e, akhire kyknya tetep pake JNE ato pos kilat   Netral     0  \n",
              "7                                    jne ga jls anjir   Netral     0  \n",
              "8   FORMAT! #JNEConfess for : -uname tujuan- -isi ...   Netral     0  \n",
              "9   Nmax diserempet mobil box jne, untung kaga tum...   Netral     0  \n",
              "10  RT : wts skintific mugwort clay stick new (bar...  Positif     1  \n",
              "11  Hadeh bener\" Dah udh 6 hari ga nyampe\", barang...   Netral     0  \n",
              "12  _ar Ya bs juga bgt ,klu komparasinya ke kurir ...   Netral     0  \n",
              "13    udah kayak ngirim ke luar negeri aja jne monyet   Netral     0  \n",
              "14  Halo warga Bali🌸!! Mau kirim paket tapi bayar ...   Netral     0  "
            ],
            "text/html": [
              "\n",
              "  <div id=\"df-fd5d3751-3ef2-462d-bd37-a3a42abea34f\">\n",
              "    <div class=\"colab-df-container\">\n",
              "      <div>\n",
              "<style scoped>\n",
              "    .dataframe tbody tr th:only-of-type {\n",
              "        vertical-align: middle;\n",
              "    }\n",
              "\n",
              "    .dataframe tbody tr th {\n",
              "        vertical-align: top;\n",
              "    }\n",
              "\n",
              "    .dataframe thead th {\n",
              "        text-align: right;\n",
              "    }\n",
              "</style>\n",
              "<table border=\"1\" class=\"dataframe\">\n",
              "  <thead>\n",
              "    <tr style=\"text-align: right;\">\n",
              "      <th></th>\n",
              "      <th>Unnamed: 0</th>\n",
              "      <th>Tanggal</th>\n",
              "      <th>Pengguna</th>\n",
              "      <th>Tweet</th>\n",
              "      <th>Sentimen</th>\n",
              "      <th>label</th>\n",
              "    </tr>\n",
              "  </thead>\n",
              "  <tbody>\n",
              "    <tr>\n",
              "      <th>0</th>\n",
              "      <td>0</td>\n",
              "      <td>2023-02-14 14:34:29</td>\n",
              "      <td>ktaehyun__g</td>\n",
              "      <td>_ID tolong cek dm min</td>\n",
              "      <td>Netral</td>\n",
              "      <td>0</td>\n",
              "    </tr>\n",
              "    <tr>\n",
              "      <th>1</th>\n",
              "      <td>1</td>\n",
              "      <td>2023-02-14 14:32:53</td>\n",
              "      <td>sweebypie</td>\n",
              "      <td>ini aku 11kg karena kena volume. harusnya 8kg ...</td>\n",
              "      <td>Netral</td>\n",
              "      <td>0</td>\n",
              "    </tr>\n",
              "    <tr>\n",
              "      <th>2</th>\n",
              "      <td>2</td>\n",
              "      <td>2023-02-14 14:25:21</td>\n",
              "      <td>doyok__31</td>\n",
              "      <td>_ID Kapan sampe nya ke rumah saya ya</td>\n",
              "      <td>Netral</td>\n",
              "      <td>0</td>\n",
              "    </tr>\n",
              "    <tr>\n",
              "      <th>3</th>\n",
              "      <td>3</td>\n",
              "      <td>2023-02-14 14:24:32</td>\n",
              "      <td>kafie_ribedz</td>\n",
              "      <td>Hai admin, masih di ngirim paket di jne rawaku...</td>\n",
              "      <td>Netral</td>\n",
              "      <td>0</td>\n",
              "    </tr>\n",
              "    <tr>\n",
              "      <th>4</th>\n",
              "      <td>4</td>\n",
              "      <td>2023-02-14 14:16:59</td>\n",
              "      <td>asiaticakjw</td>\n",
              "      <td>jne cargo emg mahal nder klo mau yg murah cb p...</td>\n",
              "      <td>Netral</td>\n",
              "      <td>0</td>\n",
              "    </tr>\n",
              "    <tr>\n",
              "      <th>5</th>\n",
              "      <td>5</td>\n",
              "      <td>2023-02-14 14:05:57</td>\n",
              "      <td>JNECare</td>\n",
              "      <td>Sama-sama kak, Terima kasih telah menggunakan ...</td>\n",
              "      <td>Positif</td>\n",
              "      <td>1</td>\n",
              "    </tr>\n",
              "    <tr>\n",
              "      <th>6</th>\n",
              "      <td>6</td>\n",
              "      <td>2023-02-14 14:04:31</td>\n",
              "      <td>FicoFey</td>\n",
              "      <td>Iya e, akhire kyknya tetep pake JNE ato pos kilat</td>\n",
              "      <td>Netral</td>\n",
              "      <td>0</td>\n",
              "    </tr>\n",
              "    <tr>\n",
              "      <th>7</th>\n",
              "      <td>7</td>\n",
              "      <td>2023-02-14 14:02:56</td>\n",
              "      <td>hmmitha</td>\n",
              "      <td>jne ga jls anjir</td>\n",
              "      <td>Netral</td>\n",
              "      <td>0</td>\n",
              "    </tr>\n",
              "    <tr>\n",
              "      <th>8</th>\n",
              "      <td>8</td>\n",
              "      <td>2023-02-14 14:02:53</td>\n",
              "      <td>JNE_RPW</td>\n",
              "      <td>FORMAT! #JNEConfess for : -uname tujuan- -isi ...</td>\n",
              "      <td>Netral</td>\n",
              "      <td>0</td>\n",
              "    </tr>\n",
              "    <tr>\n",
              "      <th>9</th>\n",
              "      <td>9</td>\n",
              "      <td>2023-02-14 13:57:56</td>\n",
              "      <td>Trililililily</td>\n",
              "      <td>Nmax diserempet mobil box jne, untung kaga tum...</td>\n",
              "      <td>Netral</td>\n",
              "      <td>0</td>\n",
              "    </tr>\n",
              "    <tr>\n",
              "      <th>10</th>\n",
              "      <td>10</td>\n",
              "      <td>2023-02-14 13:56:55</td>\n",
              "      <td>DoYourThangWhMe</td>\n",
              "      <td>RT : wts skintific mugwort clay stick new (bar...</td>\n",
              "      <td>Positif</td>\n",
              "      <td>1</td>\n",
              "    </tr>\n",
              "    <tr>\n",
              "      <th>11</th>\n",
              "      <td>11</td>\n",
              "      <td>2023-02-14 13:54:18</td>\n",
              "      <td>ikul101</td>\n",
              "      <td>Hadeh bener\" Dah udh 6 hari ga nyampe\", barang...</td>\n",
              "      <td>Netral</td>\n",
              "      <td>0</td>\n",
              "    </tr>\n",
              "    <tr>\n",
              "      <th>12</th>\n",
              "      <td>12</td>\n",
              "      <td>2023-02-14 13:53:58</td>\n",
              "      <td>JoPermadi</td>\n",
              "      <td>_ar Ya bs juga bgt ,klu komparasinya ke kurir ...</td>\n",
              "      <td>Netral</td>\n",
              "      <td>0</td>\n",
              "    </tr>\n",
              "    <tr>\n",
              "      <th>13</th>\n",
              "      <td>13</td>\n",
              "      <td>2023-02-14 13:51:32</td>\n",
              "      <td>sweebypie</td>\n",
              "      <td>udah kayak ngirim ke luar negeri aja jne monyet</td>\n",
              "      <td>Netral</td>\n",
              "      <td>0</td>\n",
              "    </tr>\n",
              "    <tr>\n",
              "      <th>14</th>\n",
              "      <td>14</td>\n",
              "      <td>2023-02-14 13:45:39</td>\n",
              "      <td>JNE_DPS</td>\n",
              "      <td>Halo warga Bali🌸!! Mau kirim paket tapi bayar ...</td>\n",
              "      <td>Netral</td>\n",
              "      <td>0</td>\n",
              "    </tr>\n",
              "  </tbody>\n",
              "</table>\n",
              "</div>\n",
              "      <button class=\"colab-df-convert\" onclick=\"convertToInteractive('df-fd5d3751-3ef2-462d-bd37-a3a42abea34f')\"\n",
              "              title=\"Convert this dataframe to an interactive table.\"\n",
              "              style=\"display:none;\">\n",
              "        \n",
              "  <svg xmlns=\"http://www.w3.org/2000/svg\" height=\"24px\"viewBox=\"0 0 24 24\"\n",
              "       width=\"24px\">\n",
              "    <path d=\"M0 0h24v24H0V0z\" fill=\"none\"/>\n",
              "    <path d=\"M18.56 5.44l.94 2.06.94-2.06 2.06-.94-2.06-.94-.94-2.06-.94 2.06-2.06.94zm-11 1L8.5 8.5l.94-2.06 2.06-.94-2.06-.94L8.5 2.5l-.94 2.06-2.06.94zm10 10l.94 2.06.94-2.06 2.06-.94-2.06-.94-.94-2.06-.94 2.06-2.06.94z\"/><path d=\"M17.41 7.96l-1.37-1.37c-.4-.4-.92-.59-1.43-.59-.52 0-1.04.2-1.43.59L10.3 9.45l-7.72 7.72c-.78.78-.78 2.05 0 2.83L4 21.41c.39.39.9.59 1.41.59.51 0 1.02-.2 1.41-.59l7.78-7.78 2.81-2.81c.8-.78.8-2.07 0-2.86zM5.41 20L4 18.59l7.72-7.72 1.47 1.35L5.41 20z\"/>\n",
              "  </svg>\n",
              "      </button>\n",
              "      \n",
              "  <style>\n",
              "    .colab-df-container {\n",
              "      display:flex;\n",
              "      flex-wrap:wrap;\n",
              "      gap: 12px;\n",
              "    }\n",
              "\n",
              "    .colab-df-convert {\n",
              "      background-color: #E8F0FE;\n",
              "      border: none;\n",
              "      border-radius: 50%;\n",
              "      cursor: pointer;\n",
              "      display: none;\n",
              "      fill: #1967D2;\n",
              "      height: 32px;\n",
              "      padding: 0 0 0 0;\n",
              "      width: 32px;\n",
              "    }\n",
              "\n",
              "    .colab-df-convert:hover {\n",
              "      background-color: #E2EBFA;\n",
              "      box-shadow: 0px 1px 2px rgba(60, 64, 67, 0.3), 0px 1px 3px 1px rgba(60, 64, 67, 0.15);\n",
              "      fill: #174EA6;\n",
              "    }\n",
              "\n",
              "    [theme=dark] .colab-df-convert {\n",
              "      background-color: #3B4455;\n",
              "      fill: #D2E3FC;\n",
              "    }\n",
              "\n",
              "    [theme=dark] .colab-df-convert:hover {\n",
              "      background-color: #434B5C;\n",
              "      box-shadow: 0px 1px 3px 1px rgba(0, 0, 0, 0.15);\n",
              "      filter: drop-shadow(0px 1px 2px rgba(0, 0, 0, 0.3));\n",
              "      fill: #FFFFFF;\n",
              "    }\n",
              "  </style>\n",
              "\n",
              "      <script>\n",
              "        const buttonEl =\n",
              "          document.querySelector('#df-fd5d3751-3ef2-462d-bd37-a3a42abea34f button.colab-df-convert');\n",
              "        buttonEl.style.display =\n",
              "          google.colab.kernel.accessAllowed ? 'block' : 'none';\n",
              "\n",
              "        async function convertToInteractive(key) {\n",
              "          const element = document.querySelector('#df-fd5d3751-3ef2-462d-bd37-a3a42abea34f');\n",
              "          const dataTable =\n",
              "            await google.colab.kernel.invokeFunction('convertToInteractive',\n",
              "                                                     [key], {});\n",
              "          if (!dataTable) return;\n",
              "\n",
              "          const docLinkHtml = 'Like what you see? Visit the ' +\n",
              "            '<a target=\"_blank\" href=https://colab.research.google.com/notebooks/data_table.ipynb>data table notebook</a>'\n",
              "            + ' to learn more about interactive tables.';\n",
              "          element.innerHTML = '';\n",
              "          dataTable['output_type'] = 'display_data';\n",
              "          await google.colab.output.renderOutput(dataTable, element);\n",
              "          const docLink = document.createElement('div');\n",
              "          docLink.innerHTML = docLinkHtml;\n",
              "          element.appendChild(docLink);\n",
              "        }\n",
              "      </script>\n",
              "    </div>\n",
              "  </div>\n",
              "  "
            ]
          },
          "metadata": {},
          "execution_count": 9
        }
      ]
    },
    {
      "cell_type": "code",
      "source": [
        "csv.shape"
      ],
      "metadata": {
        "colab": {
          "base_uri": "https://localhost:8080/"
        },
        "id": "sa3FMWhDQuS0",
        "outputId": "588cad15-1220-4a81-9dca-9a519ff0fbfd"
      },
      "execution_count": 10,
      "outputs": [
        {
          "output_type": "execute_result",
          "data": {
            "text/plain": [
              "(100, 6)"
            ]
          },
          "metadata": {},
          "execution_count": 10
        }
      ]
    },
    {
      "cell_type": "code",
      "source": [
        "#menghilangkan kolom yang tidak dipakai\n",
        "\n",
        "csv_data = csv.copy()\n",
        "csv_data = csv.drop(columns=['Tanggal', 'Pengguna', 'Sentimen'])\n",
        "csv_data.head()"
      ],
      "metadata": {
        "colab": {
          "base_uri": "https://localhost:8080/",
          "height": 206
        },
        "id": "ipbyaar5RBnv",
        "outputId": "30e03474-daec-43f2-9778-2fb0541c4ccc"
      },
      "execution_count": 11,
      "outputs": [
        {
          "output_type": "execute_result",
          "data": {
            "text/plain": [
              "   Unnamed: 0                                              Tweet label\n",
              "0           0                              _ID tolong cek dm min     0\n",
              "1           1  ini aku 11kg karena kena volume. harusnya 8kg ...     0\n",
              "2           2               _ID Kapan sampe nya ke rumah saya ya     0\n",
              "3           3  Hai admin, masih di ngirim paket di jne rawaku...     0\n",
              "4           4  jne cargo emg mahal nder klo mau yg murah cb p...     0"
            ],
            "text/html": [
              "\n",
              "  <div id=\"df-d9536888-b378-4c2c-81e2-2edbfae98051\">\n",
              "    <div class=\"colab-df-container\">\n",
              "      <div>\n",
              "<style scoped>\n",
              "    .dataframe tbody tr th:only-of-type {\n",
              "        vertical-align: middle;\n",
              "    }\n",
              "\n",
              "    .dataframe tbody tr th {\n",
              "        vertical-align: top;\n",
              "    }\n",
              "\n",
              "    .dataframe thead th {\n",
              "        text-align: right;\n",
              "    }\n",
              "</style>\n",
              "<table border=\"1\" class=\"dataframe\">\n",
              "  <thead>\n",
              "    <tr style=\"text-align: right;\">\n",
              "      <th></th>\n",
              "      <th>Unnamed: 0</th>\n",
              "      <th>Tweet</th>\n",
              "      <th>label</th>\n",
              "    </tr>\n",
              "  </thead>\n",
              "  <tbody>\n",
              "    <tr>\n",
              "      <th>0</th>\n",
              "      <td>0</td>\n",
              "      <td>_ID tolong cek dm min</td>\n",
              "      <td>0</td>\n",
              "    </tr>\n",
              "    <tr>\n",
              "      <th>1</th>\n",
              "      <td>1</td>\n",
              "      <td>ini aku 11kg karena kena volume. harusnya 8kg ...</td>\n",
              "      <td>0</td>\n",
              "    </tr>\n",
              "    <tr>\n",
              "      <th>2</th>\n",
              "      <td>2</td>\n",
              "      <td>_ID Kapan sampe nya ke rumah saya ya</td>\n",
              "      <td>0</td>\n",
              "    </tr>\n",
              "    <tr>\n",
              "      <th>3</th>\n",
              "      <td>3</td>\n",
              "      <td>Hai admin, masih di ngirim paket di jne rawaku...</td>\n",
              "      <td>0</td>\n",
              "    </tr>\n",
              "    <tr>\n",
              "      <th>4</th>\n",
              "      <td>4</td>\n",
              "      <td>jne cargo emg mahal nder klo mau yg murah cb p...</td>\n",
              "      <td>0</td>\n",
              "    </tr>\n",
              "  </tbody>\n",
              "</table>\n",
              "</div>\n",
              "      <button class=\"colab-df-convert\" onclick=\"convertToInteractive('df-d9536888-b378-4c2c-81e2-2edbfae98051')\"\n",
              "              title=\"Convert this dataframe to an interactive table.\"\n",
              "              style=\"display:none;\">\n",
              "        \n",
              "  <svg xmlns=\"http://www.w3.org/2000/svg\" height=\"24px\"viewBox=\"0 0 24 24\"\n",
              "       width=\"24px\">\n",
              "    <path d=\"M0 0h24v24H0V0z\" fill=\"none\"/>\n",
              "    <path d=\"M18.56 5.44l.94 2.06.94-2.06 2.06-.94-2.06-.94-.94-2.06-.94 2.06-2.06.94zm-11 1L8.5 8.5l.94-2.06 2.06-.94-2.06-.94L8.5 2.5l-.94 2.06-2.06.94zm10 10l.94 2.06.94-2.06 2.06-.94-2.06-.94-.94-2.06-.94 2.06-2.06.94z\"/><path d=\"M17.41 7.96l-1.37-1.37c-.4-.4-.92-.59-1.43-.59-.52 0-1.04.2-1.43.59L10.3 9.45l-7.72 7.72c-.78.78-.78 2.05 0 2.83L4 21.41c.39.39.9.59 1.41.59.51 0 1.02-.2 1.41-.59l7.78-7.78 2.81-2.81c.8-.78.8-2.07 0-2.86zM5.41 20L4 18.59l7.72-7.72 1.47 1.35L5.41 20z\"/>\n",
              "  </svg>\n",
              "      </button>\n",
              "      \n",
              "  <style>\n",
              "    .colab-df-container {\n",
              "      display:flex;\n",
              "      flex-wrap:wrap;\n",
              "      gap: 12px;\n",
              "    }\n",
              "\n",
              "    .colab-df-convert {\n",
              "      background-color: #E8F0FE;\n",
              "      border: none;\n",
              "      border-radius: 50%;\n",
              "      cursor: pointer;\n",
              "      display: none;\n",
              "      fill: #1967D2;\n",
              "      height: 32px;\n",
              "      padding: 0 0 0 0;\n",
              "      width: 32px;\n",
              "    }\n",
              "\n",
              "    .colab-df-convert:hover {\n",
              "      background-color: #E2EBFA;\n",
              "      box-shadow: 0px 1px 2px rgba(60, 64, 67, 0.3), 0px 1px 3px 1px rgba(60, 64, 67, 0.15);\n",
              "      fill: #174EA6;\n",
              "    }\n",
              "\n",
              "    [theme=dark] .colab-df-convert {\n",
              "      background-color: #3B4455;\n",
              "      fill: #D2E3FC;\n",
              "    }\n",
              "\n",
              "    [theme=dark] .colab-df-convert:hover {\n",
              "      background-color: #434B5C;\n",
              "      box-shadow: 0px 1px 3px 1px rgba(0, 0, 0, 0.15);\n",
              "      filter: drop-shadow(0px 1px 2px rgba(0, 0, 0, 0.3));\n",
              "      fill: #FFFFFF;\n",
              "    }\n",
              "  </style>\n",
              "\n",
              "      <script>\n",
              "        const buttonEl =\n",
              "          document.querySelector('#df-d9536888-b378-4c2c-81e2-2edbfae98051 button.colab-df-convert');\n",
              "        buttonEl.style.display =\n",
              "          google.colab.kernel.accessAllowed ? 'block' : 'none';\n",
              "\n",
              "        async function convertToInteractive(key) {\n",
              "          const element = document.querySelector('#df-d9536888-b378-4c2c-81e2-2edbfae98051');\n",
              "          const dataTable =\n",
              "            await google.colab.kernel.invokeFunction('convertToInteractive',\n",
              "                                                     [key], {});\n",
              "          if (!dataTable) return;\n",
              "\n",
              "          const docLinkHtml = 'Like what you see? Visit the ' +\n",
              "            '<a target=\"_blank\" href=https://colab.research.google.com/notebooks/data_table.ipynb>data table notebook</a>'\n",
              "            + ' to learn more about interactive tables.';\n",
              "          element.innerHTML = '';\n",
              "          dataTable['output_type'] = 'display_data';\n",
              "          await google.colab.output.renderOutput(dataTable, element);\n",
              "          const docLink = document.createElement('div');\n",
              "          docLink.innerHTML = docLinkHtml;\n",
              "          element.appendChild(docLink);\n",
              "        }\n",
              "      </script>\n",
              "    </div>\n",
              "  </div>\n",
              "  "
            ]
          },
          "metadata": {},
          "execution_count": 11
        }
      ]
    },
    {
      "cell_type": "code",
      "source": [
        "csv_data.shape"
      ],
      "metadata": {
        "colab": {
          "base_uri": "https://localhost:8080/"
        },
        "id": "awWcO48PRwsu",
        "outputId": "8ddf2081-6078-4c3f-85ab-deae1070c7c3"
      },
      "execution_count": 13,
      "outputs": [
        {
          "output_type": "execute_result",
          "data": {
            "text/plain": [
              "(100, 3)"
            ]
          },
          "metadata": {},
          "execution_count": 13
        }
      ]
    },
    {
      "cell_type": "code",
      "source": [
        "x = csv_data.iloc[:, 1].values\n",
        "y = csv_data.iloc[:, 2].values"
      ],
      "metadata": {
        "id": "LUXdO5TiSHS4"
      },
      "execution_count": 22,
      "outputs": []
    },
    {
      "cell_type": "code",
      "source": [
        "#mengambil 20% data untuk data test\n",
        "from sklearn.model_selection import train_test_split\n",
        "x_train, x_test, y_train, y_test = train_test_split(x, y, test_size=0.2, random_state=0)"
      ],
      "metadata": {
        "id": "Bh-4zzJ6TZQU"
      },
      "execution_count": 23,
      "outputs": []
    },
    {
      "cell_type": "code",
      "source": [
        "x_train"
      ],
      "metadata": {
        "colab": {
          "base_uri": "https://localhost:8080/"
        },
        "id": "NZcaY-vBUBfm",
        "outputId": "438400fe-ea89-4801-d9b7-b8afeb0a9a72"
      },
      "execution_count": 24,
      "outputs": [
        {
          "output_type": "execute_result",
          "data": {
            "text/plain": [
              "array(['Paket saya juga sudah 5 hari belum jalan. Masih di daerah asal pengiriman statusnya. . Makin lama jne makin ga layak di pertahankan.',\n",
              "       'Oke, kirim nya pake JNE ya',\n",
              "       'Hai admin, masih di ngirim paket di jne rawakuning? Hehehe',\n",
              "       'Punya ol shop? Tp suka males antri kirim paket? Kami solusinya. Spesialis jemput paket via JNE di Kota Depok , WA/call di 0856 8000027',\n",
              "       '_ID Kelanjutannya dikenalin sm mas2 yg kerja di madukoro wkwk pake orang dalem deh akhirnya, sad but true',\n",
              "       'Aneh ya, gak masuk akal 😁. Baru baru ini aja begitu, dulunya enggak..sesuai di web jne lebih mahal dikit lah masih masuk logika..wajar kalau diup dikit. Tapi kalau sekarang gak masuk akal, cuma di aja bisa gitu 🤭🤭🤭. Tq min, mungkin di suruh pindah ke ekspedisi lain.',\n",
              "       'Iya e, akhire kyknya tetep pake JNE ato pos kilat',\n",
              "       'Hai kak, akun Tokopedia Seller saya diretas sejak Jumat 10 Februari 2023 lalu Si penyusup sudah menarik Saldo Tokopedia sebesar sekitar Rp. 8 juta Awalnya lewat pesan sebagai kurir JNE, lalu suruh download APK Setelah itu ada penarikan #tokopedia #penipuan #peretasan #hacker https://t.co/MyV856Eug7',\n",
              "       'Harian Jogja bersama JNE Express akan menggelar “Talk Show Sinergi Ekspedisi dan UMKM Sukseskan Magelang Keren” pada: Rabu, 15 Februari 2023 Pukul 09.00 - 10.00 WIB',\n",
              "       '_Friends Iya jne trucking 13 hari, meanwhile pake jnt cargo 6 harian nyampe sama-sama dari jawa hahaha',\n",
              "       'paxel max jam 10 dari sda, nyampe malang hari yang sama abis maghrib, atau jne yes kalo mau yang sehari, drop pagi juga ke gerainya, kalo jnt ga ada kilat, jadi belom tentu sehari nyampe',\n",
              "       '{ Memandang ngab jne penuh cinta } PAMER DULUUU aku dapet hadiah made by love by pacar aslinya Eyri. Walau diduain tapi hubungan aku dan Jeanne sang pelukis legendaris tetep bisa akur… mwah… kisu. &lt;3 https://t.co/yu5oZMwuRN',\n",
              "       'Percuma bayar mahal mahal pake jne yes claimnya satu hari sampai . Ternyata gak sampe sampe anjir RUGI GUEEEEEE. Maksud hati biar cpt sampe karna itu barang urgent bisabisa nya gasampe juga mending pake reguler yawllah kesel gimna sih layanannya _ID',\n",
              "       'Harian Jogja bersama JNE Express akan menggelar “Talk Show Sinergi Ekspedisi dan UMKM Sukseskan Magelang Keren” pada:',\n",
              "       'JNE asu',\n",
              "       'Gunakan Debit Mandiri dan BRI sebagai pembayaran di JNE Kalimantan Blitar, Mudah dan Praktis.#JNEBLITAR',\n",
              "       '_ID Nih Perusahaan Lo Dicatut Buat Penipuan, Be Aware Ya Gaess https://t.co/hpc2Dtd2BU',\n",
              "       'Kira paket JNE untukku, ternyata dari pacar kakak untuk kakak. Anjay langsung kena mental coeg. Orang-orang pung valentine ni bikin gigi asam betul e🤣🙏🏻',\n",
              "       'Oke, kirim nya pake JNE ya',\n",
              "       'hai JNE paket saya ke SULUT kok belum sampai\"',\n",
              "       'ini aku 11kg karena kena volume. harusnya 8kg kalau ga kena. jne asu bgt ya Allah😔',\n",
              "       'Oke, kirim nya pake JNE ya',\n",
              "       'Itu nama layanan JNE yg lumayan murah. Kalau pakai reg agak mahal karena berat',\n",
              "       'lama bgt jne tolol',\n",
              "       'jne cargo emg mahal nder klo mau yg murah cb pake sentral kargo 👍🏼👍🏼',\n",
              "       'Di Jual jersey seharga 125rb sudah ongkir via JNE, kalau mau COD di Lbk.Bulus , Ciputat, Depok (Nama dan Nomor punggung cp : 081314406127)',\n",
              "       'Bukti Nomor Resi JNE &amp; Paket Yang Sudah Sampai 🚚 Jasa pengiriman via JNE. 🏧 Pembayaran via transfer. 🚫 Kami tidak melayani COD 🙏🏻 ☎ 0821 3301 5657 Cek Bukti Nomor Resi JNE &amp; Paket Yang Sudah Sampai 👇🏻 https://t.co/6CvcDa9EFh Daftar Menu 👇🏻 https://t.co/F43yRKMwwU https://t.co/DiXyPZZjZM',\n",
              "       'RT : Sicepat lelet bgt sih, orang jadi males pake sicepat. Gue kalo di Shopee mending Shopee express/JNT. Tokped pake anteraja sam…',\n",
              "       'bisakah jne cod',\n",
              "       'Sama-sama kak, Terima kasih telah menggunakan layanan JNE tetap setia menggunakan jasa JNE ya kak :) Thanks - Ari -',\n",
              "       'Twitter, show your magic 😥 Akun Tokopedia saya diretas, ada 8 kali penarikan Saldo ke 3 rekening yang berbeda, dengan jumlah sekitar Rp. 8 juta Kronologis: 1. Jumat, 10 Februari 2023 Pesan Whatsapp masuk, mengatasnamakan JNE, dengan Foto Profil JNE #tokopedia #hacker https://t.co/L04r1Sj5s8',\n",
              "       'RT : 14 Februari Sebagai tanda cinta, kasih dan sayang saya kpd para pegiat literasi, pengelola Taman Bacaan Masyarakat (TBM), ha…',\n",
              "       '_ID tolong cek dm min',\n",
              "       '#WTS PP di pict, semua 150k, COD FX / JNE.. https://t.co/2HUsB7MVb9',\n",
              "       'Aku biasa kirim invoice, berkas MoU dan lain-lain pakai JNE sih',\n",
              "       '#Karanganyar https://t.co/bG2RgeHnli #JNE Karanganyar #asinua 👍 #karanganyar https://t.co/SRkjt5pA9H',\n",
              "       'Hadeh bener\" Dah udh 6 hari ga nyampe\", barang stuck disitu\" Aja, padahal tinggal dikirim ke rumah gua doang itu, ga lagi\" Dah pake jne https://t.co/xNgbiHKtSD',\n",
              "       'Narasumber : 1.Wakil Wali Kota Magelang, K.H.Drs.M.Mansyur, https://t.co/XReM2kufIG. 2.Kepala Cabang JNE Magelang, Bambang Kristiady Disiarkan langsung dari Joglo Animal Raiding, Taman Kyai Langgeng Kota Magelang.',\n",
              "       'Halooo _ID paket dikirim dari selasa kemarin pakai jne yes dan belum sampai juga kok cuman mau diganti rugi biaya pengirimannya aja? Loh saya sudah rugi waktu buat nungguin sama rugi biaya lah. Kenapa cuman ongkos kirimnya aja?',\n",
              "       'Mauu cepattt jne in kalau perlu yg anterin dia https://t.co/5bYJr7iH2q',\n",
              "       'RT : wts skintific mugwort clay stick new (baru), ori, masih segel 💸 75.000 yaaa dijual karena salah beli + lg bu:\" 📌pengiri…',\n",
              "       'Banyak produk Batre &amp; Powerbank di toko kami silahkan datang ke toko kami, untuk luar kota kirim via JNE',\n",
              "       'IKLANlaku JUAL BATERAY, CHARGER,LCD/LED LAPTOP MURAH BERGARANSI CP WA 085728557858 PIN 7456B44F kirim2 via jne, wahana, pahala',\n",
              "       'Performa nya menurun Dulu awal2 bnr2 gercep, tp makin ksni makin sering ngambil ke gudang nya yg mana jauh. Buatku andalan tetep jnt dan jne',\n",
              "       'MENFESS 24 JAM! PAKET KILAT! FREE FOR RP! JUST DM ! PASTI DI POST',\n",
              "       'Paling bener JNE pake pengiriman reguler sj.',\n",
              "       'WTS Nike Air Rift 🚚 3 Maret Excl. JNE (dari Bekasi/Bandung) Stok promo cepet habis yaa 💵Black, Pink 1,580k (EU 36.5, 43) 💵White 1,580k (EU 35, 42, 43) 💵 Grey 1,580k (EU 35, 36, 42, 43) tags. jastipjepang jastipjapan jasa titip belanja jepang wtb sepatu shoes https://t.co/DasD0uILTn',\n",
              "       'Jadi di paketin dulu pake JNE ya?',\n",
              "       'Halo warga Bali🌸!! Mau kirim paket tapi bayar ongkirnya ditempat tujuan? Bisa banget dong di JNE!!🤩🤩JNE ada layanan COD Ongkir yang bisa langsung #TemanJNE gunakan lohh.... Cuss langsung ke Kantor JNE terdekat !!! Kirim paket? JNE ajaa🥰 #JNE #ConnectingHappiness #JNE32Tahun https://t.co/gQs9iFXE1p',\n",
              "       'Gw sdh complain ke . Katanya akan investigasi ke kurir. Kita lihat apakah ada kemajuannya. JNE sama sekali gak update sejak 10 Februari. Janjinya 13 Februari nyampe. Gw butuh banget itu barang. Tidak ada keterangan sama sekali dari JNE.',\n",
              "       'Jam operasional JNE Kalimantan 08.00-20.00 setiap hari, info CS: 0342-803071/085790510039 Pin 21239085. #JNEBLITAR',\n",
              "       'Utk rekan2 perusahaan/online shop yang mau langganan di JNE Abadi Sejahtera, kami jemput kirimannya &amp; ada penawaran menarik lainnya.',\n",
              "       '_ID Kirim ke alamat biasa ya',\n",
              "       'WTS makeup dan skincare last stock yg masih baru with box. Dom Malang bisa COD, paymen by Dana/BCA. Shipping by J&amp;T atau JNE yakk #zonauang️ #zonajajan #zonaba #zonaBU https://t.co/ry6tsfYjh5',\n",
              "       'WTS makeup dan skincare last stock yg masih baru with box. Dom Malang bisa COD, paymen by Dana/BCA. Shipping by J&amp;T atau JNE yakk #zonauang️ #zonajajan #zonaba #zonaBU https://t.co/W0h1sv5BTz',\n",
              "       'RT : 14 Februari Sebagai tanda cinta, kasih dan sayang saya kpd para pegiat literasi, pengelola Taman Bacaan Masyarakat (TBM), ha…',\n",
              "       '_ID Nih Perusahaan Lo Dicatut Buat Penipuan. Hati2 gaesss https://t.co/4Y7TZHf4Mx',\n",
              "       '#WTS PP di pict, semua 150k, COD FX / JNE.. https://t.co/kKwT8AFEM3',\n",
              "       '#WTS PP GC HS, yg set harus set, COD Fx / JNE.. https://t.co/i1CeEqxxXJ',\n",
              "       'Jne in aje',\n",
              "       '#jneburuk #jne _ID apa apaan ini, pembelian 12 feb, service next day, sampai hari ini blm juga sampai. apa mksdnya ganti no resi segala?? https://t.co/40IM3TG0ZP',\n",
              "       '_ID cek dm min',\n",
              "       'Narasumber : 1.Wakil Wali Kota Magelang, K.H.Drs.M.Mansyur, https://t.co/XReM2kufIG. 2.Kepala Cabang JNE Magelang, Bambang Kristiady Disiarkan langsung dari Joglo Animal Raiding, Taman Kyai Langgeng Kota Magelang.',\n",
              "       'ayo yang masih butuh pengiriman via JNE Depok silahkan WA/call kami di 0821 70000323... bisa kami pick up loh dan gratis :)',\n",
              "       '#WTS PP ALL Member Langka, COD FX / JNE. https://t.co/ZrmGAUkq8y',\n",
              "       'Hai min saya ingin lapor perihal pelayanan CS JNE Pamekasan. Terlepas dari masalah yang ada, cara bicara petugas sangat tidak ramah https://t.co/tagHd3mKyP',\n",
              "       '_29 JNE gak sih?',\n",
              "       '_ar Ya bs juga bgt ,klu komparasinya ke kurir spt jne , tp ke kurir lain ya tetap ga bs bersaing om dgn tarif yg semi subsidi bakar duit, langkah yg ga bs diikuti pos indo.',\n",
              "       'RT : 14 Februari Sebagai tanda cinta, kasih dan sayang saya kpd para pegiat literasi, pengelola Taman Bacaan Masyarakat (TBM), ha…',\n",
              "       'Untuk kiriman yg menjangkau seluruh kecamatan di Indonesia gunakan service JNE REGULAR..',\n",
              "       'masa paket jkt-mlg aja sampe semingguan sendiri woi 🤬🤬🤬 cek di resi terakhir di blg nobody at home pdhl jam segitu ada di rmh gilak kacau bgt jne mlg',\n",
              "       'Harian Jogja bersama JNE Express akan menggelar “Talk Show Sinergi Ekspedisi dan UMKM Sukseskan Magelang Keren” pada: Rabu, 15 Februari 2023 Pukul 09.00 - 10.00 WIB',\n",
              "       'Syebel bet sama JNE 😭😭😭😭',\n",
              "       'Apapun Kirimannya, Pastikan kirimnya melalui JNE Kalimantan Blitar. Trace &amp; Tracking sampe tuntas.#JNEBLITAR',\n",
              "       'Nmax diserempet mobil box jne, untung kaga tumbang hamba yawlaaa..',\n",
              "       '#TemanJNE sudah kirim hadiah untuk orang tersayang hari ini? JNE Denpasar X Mr.Kurir siap anterin paket kamu untuk orang tersayang🤗 Jangan lupa sebarkan kebahagiaan di Hari Kasih Sayang ini ya🥰 #JNE #ConnectingHappiness #JNE32Tahun #JNEBangkitBersama #JNEDenpasar https://t.co/Ak9LeGLVeO',\n",
              "       'Rabu, 15 Februari 2023 Pukul 09.00 - 10.00 WIB Narasumber : 1.Wakil Wali Kota Magelang, K.H.Drs.M.Mansyur, https://t.co/XReM2kufIG. 2.Kepala Cabang JNE Magelang, Bambang Kristiady Disiarkan langsung dari Joglo Animal Raiding, Taman Kyai Langgeng Kota Magelang.',\n",
              "       'maaf min mau tanya kok ongkir di marketplace itu bisa beda jauh banget ya untuk jne cargonya. Berikut saya lampirkan perbedaanya, jika dicek lewat MP tokped, web jne dan aplikasi shopee berat sama. Kok bisa ongkirnya di diluar nalar begitu ya. Tq 😊 https://t.co/RiTQxe21LX',\n",
              "       \"tadi pihak JNE telepon saya, katanya transaksinya (di Shopee) di-cancel aja. Tapi nanti penjualnya dapet kompensasi gak tuh? Wong barangnya 'ngilang' di gudangnya JNE\",\n",
              "       'Demi JTR kenapa lama sii tumben banget? _ID https://t.co/kfQj9xpjMz'],\n",
              "      dtype=object)"
            ]
          },
          "metadata": {},
          "execution_count": 24
        }
      ]
    },
    {
      "cell_type": "code",
      "source": [
        "len(x_train)"
      ],
      "metadata": {
        "colab": {
          "base_uri": "https://localhost:8080/"
        },
        "id": "eTLaPkGEUIzu",
        "outputId": "e34608e8-57fd-4960-cf24-efe11c930d7d"
      },
      "execution_count": 25,
      "outputs": [
        {
          "output_type": "execute_result",
          "data": {
            "text/plain": [
              "80"
            ]
          },
          "metadata": {},
          "execution_count": 25
        }
      ]
    },
    {
      "cell_type": "code",
      "source": [
        "len(x)"
      ],
      "metadata": {
        "colab": {
          "base_uri": "https://localhost:8080/"
        },
        "id": "3gSjGjtFUUA2",
        "outputId": "0c72c9f6-d280-4cd1-97d4-7d79dea3b9ce"
      },
      "execution_count": 26,
      "outputs": [
        {
          "output_type": "execute_result",
          "data": {
            "text/plain": [
              "100"
            ]
          },
          "metadata": {},
          "execution_count": 26
        }
      ]
    },
    {
      "cell_type": "code",
      "source": [
        "x_test"
      ],
      "metadata": {
        "colab": {
          "base_uri": "https://localhost:8080/"
        },
        "id": "H4T4ddQoUXgK",
        "outputId": "6da1400a-3350-47f1-89df-eae0fea7ad36"
      },
      "execution_count": 27,
      "outputs": [
        {
          "output_type": "execute_result",
          "data": {
            "text/plain": [
              "array(['MANA BISA DIKASIH SEGEL FRAGIL. DIKIRA PAKET JNE',\n",
              "       'Sangat tidak disarankan memang pakai jasa Next Day _ID 😅😅😅',\n",
              "       '_ID Kapan sampe nya ke rumah saya ya',\n",
              "       'Bila tim pick up JNE Abadi Sejahtera kurang berkenan atau kurang sopan dalam pelayanannya bisa mention kami utk ditindak lanjuti,terima kasih',\n",
              "       'di bandungs aya kedai jiga warpopskay teu yes, jne euyyy',\n",
              "       'halo _ID, jne ada jasa packing barang ga ya? misalnya packing gitar pake kardus gitar + kayu.',\n",
              "       '_chnle jne dongs',\n",
              "       'Awalnya Rp 6.049.000 dapet potongan 400k jadi Rp 5.762.080 Ini udah include Biaya Asuransi (Meminimalisir kalo terjadi apa2) dan Include Biaya Pengiriman Jakarta ke Surabaya (Kirim barang elektronik pake JNE aja) Bisaa juga Checkout Packaging Kayu 30k biar lebih aman',\n",
              "       'Seru amat ambil almet trs foto\", yg almetnya dipaketin jne could never (soalnya pas oplen dah abis hype nya 👎🏻)',\n",
              "       '_ID Min cek dm',\n",
              "       'Petugas Cash Counter kami akan selalu melakukan pemeriksaan setiap paket yg akan dikirimkan sebelum barang diproses.#JNEBLITAR',\n",
              "       'RT _16: Mohon RT / Like, thank u😀🙏🏼 📚 Dijual Buku Import Preloved 📚 • pengiriman dari Surabaya • original / asli • koleksi prib…',\n",
              "       '#WTS PP Kalender 2016 di pict. CP di bio. COD FX / JNE. Thx. https://t.co/MlNEGv43rP',\n",
              "       'udah kayak ngirim ke luar negeri aja jne monyet',\n",
              "       'jne ga jls anjir',\n",
              "       'huhuu akuu deket sm jnt,jne,sicepat,tiki,pos tpi ak dom solo nderr😭😭 tpii misal minatt bolee dm yaa😃😃',\n",
              "       '_ID kenapa saya belum terima paket dengan nomer resi 300430001539823 sampai saat ini?',\n",
              "       'saya pesan pakai JNE YES tapi disini tulisannya paket sudah diterima tapi nyatanya saya belum menerima apa-apa? ini urgent loh saya pake JNE YES. saya sudah hubungi customer service katanya paket akan diinvestigasi, jaminan untuk saya kalau besok belum sampai apa? tidak https://t.co/0pcMp1MAVC',\n",
              "       'wts skintific mugwort clay stick new (baru), ori, masih segel 💸 75.000 yaaa dijual karena salah beli + lg bu:\" 📌pengiriman dari semarang 📌payment e-wallet/tf bank bri 📌bisa shopee gratis ongkir NON extra 📌jasa kirim JNE/J&amp;T ongkir ditanggung pembeli https://t.co/oDj4wypMGQ',\n",
              "       'FORMAT! #JNEConfess for : -uname tujuan- -isi mention confess- -nama pena-'],\n",
              "      dtype=object)"
            ]
          },
          "metadata": {},
          "execution_count": 27
        }
      ]
    },
    {
      "cell_type": "code",
      "source": [
        "len(x_test)"
      ],
      "metadata": {
        "colab": {
          "base_uri": "https://localhost:8080/"
        },
        "id": "gvr8GewfUetA",
        "outputId": "b72dc6af-c61a-4924-ed93-5561f748f2fd"
      },
      "execution_count": 28,
      "outputs": [
        {
          "output_type": "execute_result",
          "data": {
            "text/plain": [
              "20"
            ]
          },
          "metadata": {},
          "execution_count": 28
        }
      ]
    },
    {
      "cell_type": "code",
      "source": [
        "#preprocessing\n",
        "\n",
        "nltk.download('punkt')\n",
        "nltk.download('stopword')\n",
        "nltk.download('wordnet') #stemming"
      ],
      "metadata": {
        "colab": {
          "base_uri": "https://localhost:8080/"
        },
        "id": "fcmop7tlUlVv",
        "outputId": "60309db5-e2a6-4898-dc18-df967fff32ed"
      },
      "execution_count": 29,
      "outputs": [
        {
          "output_type": "stream",
          "name": "stderr",
          "text": [
            "[nltk_data] Downloading package punkt to /root/nltk_data...\n",
            "[nltk_data]   Unzipping tokenizers/punkt.zip.\n",
            "[nltk_data] Error loading stopword: Package 'stopword' not found in\n",
            "[nltk_data]     index\n",
            "[nltk_data] Downloading package wordnet to /root/nltk_data...\n"
          ]
        },
        {
          "output_type": "execute_result",
          "data": {
            "text/plain": [
              "True"
            ]
          },
          "metadata": {},
          "execution_count": 29
        }
      ]
    },
    {
      "cell_type": "code",
      "source": [
        "csv_data['Tweet']"
      ],
      "metadata": {
        "colab": {
          "base_uri": "https://localhost:8080/"
        },
        "id": "ePHGGTl_U_sm",
        "outputId": "8692ce1d-c05d-4d46-fa10-9401f748af3a"
      },
      "execution_count": 32,
      "outputs": [
        {
          "output_type": "execute_result",
          "data": {
            "text/plain": [
              "0                                 _ID tolong cek dm min\n",
              "1     ini aku 11kg karena kena volume. harusnya 8kg ...\n",
              "2                  _ID Kapan sampe nya ke rumah saya ya\n",
              "3     Hai admin, masih di ngirim paket di jne rawaku...\n",
              "4     jne cargo emg mahal nder klo mau yg murah cb p...\n",
              "                            ...                        \n",
              "95                                       _ID Min cek dm\n",
              "96    #TemanJNE sudah kirim hadiah untuk orang tersa...\n",
              "97    WTS makeup dan skincare last stock yg masih ba...\n",
              "98    WTS makeup dan skincare last stock yg masih ba...\n",
              "99    Hai kak, akun Tokopedia Seller saya diretas se...\n",
              "Name: Tweet, Length: 100, dtype: object"
            ]
          },
          "metadata": {},
          "execution_count": 32
        }
      ]
    },
    {
      "cell_type": "code",
      "source": [
        "#cleaning\n",
        "#remove url\n",
        "csv_data['Tweet'] = csv_data['Tweet'].str.replace('https\\S',' ',case=False)\n",
        "\n",
        "#merubah teks menjadi huruf kecil\n",
        "csv_data['Tweet'] = csv_data['Tweet'].str.lower()\n",
        "\n",
        "#remove mention\n",
        "csv_data['Tweet'] = csv_data['Tweet'].str.replace('@\\S+',' ',case=False)\n",
        "\n",
        "#remove hastag\n",
        "csv_data['Tweet'] = csv_data['Tweet'].str.replace('#\\S+',' ',case=False)\n",
        "\n",
        "#remove next character\n",
        "csv_data['Tweet'] = csv_data['Tweet'].str.replace(\"\\'\\w+\",' ',case=False)\n",
        "\n",
        "#remove punctuation\n",
        "csv_data['Tweet'] = csv_data['Tweet'].str.replace(r'[^\\w\\s]',' ',case=False)\n",
        "\n",
        "#remove underscore\n",
        "csv_data['Tweet'] = csv_data['Tweet'].str.replace(r'[\\W_]',' ',case=False)\n",
        "\n",
        "#remove number\n",
        "csv_data['Tweet'] = csv_data['Tweet'].str.replace(r'\\w*\\d+\\w*',' ',case=False)\n",
        "\n",
        "#remove spasi berlebih\n",
        "csv_data['Tweet'] = csv_data['Tweet'].str.replace('\\s(2)',' ',case=False)"
      ],
      "metadata": {
        "colab": {
          "base_uri": "https://localhost:8080/"
        },
        "id": "QCDufGfHVJ4_",
        "outputId": "8a34bbc9-25c4-48af-ce13-c3ed0e3d8ae3"
      },
      "execution_count": 38,
      "outputs": [
        {
          "output_type": "stream",
          "name": "stderr",
          "text": [
            "<ipython-input-38-6815028165d3>:3: FutureWarning: The default value of regex will change from True to False in a future version.\n",
            "  csv_data['Tweet'] = csv_data['Tweet'].str.replace('https\\S',' ',case=False)\n",
            "<ipython-input-38-6815028165d3>:9: FutureWarning: The default value of regex will change from True to False in a future version.\n",
            "  csv_data['Tweet'] = csv_data['Tweet'].str.replace('@\\S+',' ',case=False)\n",
            "<ipython-input-38-6815028165d3>:12: FutureWarning: The default value of regex will change from True to False in a future version.\n",
            "  csv_data['Tweet'] = csv_data['Tweet'].str.replace('#\\S+',' ',case=False)\n",
            "<ipython-input-38-6815028165d3>:15: FutureWarning: The default value of regex will change from True to False in a future version.\n",
            "  csv_data['Tweet'] = csv_data['Tweet'].str.replace(\"\\'\\w+\",' ',case=False)\n",
            "<ipython-input-38-6815028165d3>:18: FutureWarning: The default value of regex will change from True to False in a future version.\n",
            "  csv_data['Tweet'] = csv_data['Tweet'].str.replace(r'[^\\w\\s]',' ',case=False)\n",
            "<ipython-input-38-6815028165d3>:21: FutureWarning: The default value of regex will change from True to False in a future version.\n",
            "  csv_data['Tweet'] = csv_data['Tweet'].str.replace(r'[\\W_]',' ',case=False)\n",
            "<ipython-input-38-6815028165d3>:24: FutureWarning: The default value of regex will change from True to False in a future version.\n",
            "  csv_data['Tweet'] = csv_data['Tweet'].str.replace(r'\\w*\\d+\\w*',' ',case=False)\n",
            "<ipython-input-38-6815028165d3>:27: FutureWarning: The default value of regex will change from True to False in a future version.\n",
            "  csv_data['Tweet'] = csv_data['Tweet'].str.replace('\\s(2)',' ',case=False)\n"
          ]
        }
      ]
    },
    {
      "cell_type": "code",
      "source": [
        "csv_data['Tweet']"
      ],
      "metadata": {
        "colab": {
          "base_uri": "https://localhost:8080/"
        },
        "id": "Ht_jvbgpqydA",
        "outputId": "522e7a0d-a4e5-416a-9b55-23e2bb3fc77e"
      },
      "execution_count": 39,
      "outputs": [
        {
          "output_type": "execute_result",
          "data": {
            "text/plain": [
              "0                                  id tolong cek dm min\n",
              "1     ini aku   karena kena volume  harusnya   kalau...\n",
              "2                   id kapan sampe nya ke rumah saya ya\n",
              "3     hai admin  masih di ngirim paket di jne rawaku...\n",
              "4     jne cargo emg mahal nder klo mau yg murah cb p...\n",
              "                            ...                        \n",
              "95                                        id min cek dm\n",
              "96      sudah kirim hadiah untuk orang tersayang har...\n",
              "97    wts makeup dan skincare last stock yg masih ba...\n",
              "98    wts makeup dan skincare last stock yg masih ba...\n",
              "99    hai kak  akun tokopedia seller saya diretas se...\n",
              "Name: Tweet, Length: 100, dtype: object"
            ]
          },
          "metadata": {},
          "execution_count": 39
        }
      ]
    },
    {
      "cell_type": "code",
      "source": [
        "#tokenizing\n",
        "\n",
        "from nltk.tokenize import word_tokenize\n",
        "\n",
        "x = csv_data.iloc[0]\n",
        "print(nltk.word_tokenize(x['Tweet']))"
      ],
      "metadata": {
        "colab": {
          "base_uri": "https://localhost:8080/"
        },
        "id": "0XiFcgsBr0Zi",
        "outputId": "ecdbd55e-d543-460a-f95d-57ffa44066b6"
      },
      "execution_count": 41,
      "outputs": [
        {
          "output_type": "stream",
          "name": "stdout",
          "text": [
            "['id', 'tolong', 'cek', 'dm', 'min']\n"
          ]
        }
      ]
    },
    {
      "cell_type": "code",
      "source": [
        "def identify_tekens(row) :\n",
        "  text = row['Tweet']\n",
        "  tokens = nltk.word_tokenize(text)\n",
        "  token_words = [w for w in tokens if w.isalpha()]\n",
        "  return token_words\n",
        "\n",
        "csv_data['Tweet'] = csv_data.apply(identify_tekens, axis=1)\n",
        "csv_data.Tweet"
      ],
      "metadata": {
        "colab": {
          "base_uri": "https://localhost:8080/"
        },
        "id": "vnwUhsSaskln",
        "outputId": "7b760315-925b-4f16-f01f-0aa783945f59"
      },
      "execution_count": 42,
      "outputs": [
        {
          "output_type": "execute_result",
          "data": {
            "text/plain": [
              "0                            [id, tolong, cek, dm, min]\n",
              "1     [ini, aku, karena, kena, volume, harusnya, kal...\n",
              "2          [id, kapan, sampe, nya, ke, rumah, saya, ya]\n",
              "3     [hai, admin, masih, di, ngirim, paket, di, jne...\n",
              "4     [jne, cargo, emg, mahal, nder, klo, mau, yg, m...\n",
              "                            ...                        \n",
              "95                                   [id, min, cek, dm]\n",
              "96    [sudah, kirim, hadiah, untuk, orang, tersayang...\n",
              "97    [wts, makeup, dan, skincare, last, stock, yg, ...\n",
              "98    [wts, makeup, dan, skincare, last, stock, yg, ...\n",
              "99    [hai, kak, akun, tokopedia, seller, saya, dire...\n",
              "Name: Tweet, Length: 100, dtype: object"
            ]
          },
          "metadata": {},
          "execution_count": 42
        }
      ]
    },
    {
      "cell_type": "code",
      "source": [
        "#stemming (pembentukan kata dasar)\n",
        "from nltk.stem import PorterStemmer\n",
        "from nltk.stem import WordNetLemmatizer\n",
        "stemming = PorterStemmer()"
      ],
      "metadata": {
        "id": "n6tTVxsdtcA0"
      },
      "execution_count": 43,
      "outputs": []
    },
    {
      "cell_type": "code",
      "source": [
        "def stem_list(row) :\n",
        "  text = row['Tweet']\n",
        "  stem = [stemming.stem(word) for word in text]\n",
        "  return(stem)\n",
        "\n",
        "csv_data['Tweet'] = csv_data.apply(stem_list, axis=1)\n",
        "csv_data.Tweet"
      ],
      "metadata": {
        "colab": {
          "base_uri": "https://localhost:8080/"
        },
        "id": "6PRvyg_Wt22u",
        "outputId": "d527e292-83a5-49a5-ca5e-2d02d11cc102"
      },
      "execution_count": 44,
      "outputs": [
        {
          "output_type": "execute_result",
          "data": {
            "text/plain": [
              "0                            [id, tolong, cek, dm, min]\n",
              "1     [ini, aku, karena, kena, volum, harusnya, kala...\n",
              "2           [id, kapan, samp, nya, ke, rumah, saya, ya]\n",
              "3     [hai, admin, masih, di, ngirim, paket, di, jne...\n",
              "4     [jne, cargo, emg, mahal, nder, klo, mau, yg, m...\n",
              "                            ...                        \n",
              "95                                   [id, min, cek, dm]\n",
              "96    [sudah, kirim, hadiah, untuk, orang, tersayang...\n",
              "97    [wt, makeup, dan, skincar, last, stock, yg, ma...\n",
              "98    [wt, makeup, dan, skincar, last, stock, yg, ma...\n",
              "99    [hai, kak, akun, tokopedia, seller, saya, dire...\n",
              "Name: Tweet, Length: 100, dtype: object"
            ]
          },
          "metadata": {},
          "execution_count": 44
        }
      ]
    },
    {
      "cell_type": "code",
      "source": [
        "#stopword (menghapus kata yang tidak penting)\n",
        "from nltk.corpus import stopwords\n",
        "import nltk\n",
        "nltk.download('stopwords')\n",
        "\n",
        "stops = set(stopwords.words('indonesian'))"
      ],
      "metadata": {
        "colab": {
          "base_uri": "https://localhost:8080/"
        },
        "id": "nh8VIvEguY0w",
        "outputId": "656df40a-d9c6-4c9c-bf69-01756d297f33"
      },
      "execution_count": 45,
      "outputs": [
        {
          "output_type": "stream",
          "name": "stderr",
          "text": [
            "[nltk_data] Downloading package stopwords to /root/nltk_data...\n",
            "[nltk_data]   Unzipping corpora/stopwords.zip.\n"
          ]
        }
      ]
    },
    {
      "cell_type": "code",
      "source": [
        "csv_data.head(15)"
      ],
      "metadata": {
        "colab": {
          "base_uri": "https://localhost:8080/",
          "height": 519
        },
        "id": "p5qkdfXawBLR",
        "outputId": "1c4dd89a-cdb9-4ec2-935e-76059c9531f3"
      },
      "execution_count": 47,
      "outputs": [
        {
          "output_type": "execute_result",
          "data": {
            "text/plain": [
              "    Unnamed: 0                                              Tweet label\n",
              "0            0                         [id, tolong, cek, dm, min]     0\n",
              "1            1  [ini, aku, karena, kena, volum, harusnya, kala...     0\n",
              "2            2        [id, kapan, samp, nya, ke, rumah, saya, ya]     0\n",
              "3            3  [hai, admin, masih, di, ngirim, paket, di, jne...     0\n",
              "4            4  [jne, cargo, emg, mahal, nder, klo, mau, yg, m...     0\n",
              "5            5  [sama, sama, kak, terima, kasih, telah, menggu...     1\n",
              "6            6  [iya, e, akhir, kyknya, tetep, pake, jne, ato,...     0\n",
              "7            7                               [jne, ga, jl, anjir]     0\n",
              "8            8  [format, for, unam, tujuan, isi, mention, conf...     0\n",
              "9            9  [nmax, diserempet, mobil, box, jne, untung, ka...     0\n",
              "10          10  [rt, wt, skintif, mugwort, clay, stick, new, b...     1\n",
              "11          11  [hadeh, bener, dah, udh, hari, ga, nyamp, bara...     0\n",
              "12          12  [ar, ya, bs, juga, bgt, klu, komparasinya, ke,...     0\n",
              "13          13  [udah, kayak, ngirim, ke, luar, negeri, aja, j...     0\n",
              "14          14  [halo, warga, bali, mau, kirim, paket, tapi, b...     0"
            ],
            "text/html": [
              "\n",
              "  <div id=\"df-1cca2116-1542-4a3c-bf41-a7dcc4d3dcd9\">\n",
              "    <div class=\"colab-df-container\">\n",
              "      <div>\n",
              "<style scoped>\n",
              "    .dataframe tbody tr th:only-of-type {\n",
              "        vertical-align: middle;\n",
              "    }\n",
              "\n",
              "    .dataframe tbody tr th {\n",
              "        vertical-align: top;\n",
              "    }\n",
              "\n",
              "    .dataframe thead th {\n",
              "        text-align: right;\n",
              "    }\n",
              "</style>\n",
              "<table border=\"1\" class=\"dataframe\">\n",
              "  <thead>\n",
              "    <tr style=\"text-align: right;\">\n",
              "      <th></th>\n",
              "      <th>Unnamed: 0</th>\n",
              "      <th>Tweet</th>\n",
              "      <th>label</th>\n",
              "    </tr>\n",
              "  </thead>\n",
              "  <tbody>\n",
              "    <tr>\n",
              "      <th>0</th>\n",
              "      <td>0</td>\n",
              "      <td>[id, tolong, cek, dm, min]</td>\n",
              "      <td>0</td>\n",
              "    </tr>\n",
              "    <tr>\n",
              "      <th>1</th>\n",
              "      <td>1</td>\n",
              "      <td>[ini, aku, karena, kena, volum, harusnya, kala...</td>\n",
              "      <td>0</td>\n",
              "    </tr>\n",
              "    <tr>\n",
              "      <th>2</th>\n",
              "      <td>2</td>\n",
              "      <td>[id, kapan, samp, nya, ke, rumah, saya, ya]</td>\n",
              "      <td>0</td>\n",
              "    </tr>\n",
              "    <tr>\n",
              "      <th>3</th>\n",
              "      <td>3</td>\n",
              "      <td>[hai, admin, masih, di, ngirim, paket, di, jne...</td>\n",
              "      <td>0</td>\n",
              "    </tr>\n",
              "    <tr>\n",
              "      <th>4</th>\n",
              "      <td>4</td>\n",
              "      <td>[jne, cargo, emg, mahal, nder, klo, mau, yg, m...</td>\n",
              "      <td>0</td>\n",
              "    </tr>\n",
              "    <tr>\n",
              "      <th>5</th>\n",
              "      <td>5</td>\n",
              "      <td>[sama, sama, kak, terima, kasih, telah, menggu...</td>\n",
              "      <td>1</td>\n",
              "    </tr>\n",
              "    <tr>\n",
              "      <th>6</th>\n",
              "      <td>6</td>\n",
              "      <td>[iya, e, akhir, kyknya, tetep, pake, jne, ato,...</td>\n",
              "      <td>0</td>\n",
              "    </tr>\n",
              "    <tr>\n",
              "      <th>7</th>\n",
              "      <td>7</td>\n",
              "      <td>[jne, ga, jl, anjir]</td>\n",
              "      <td>0</td>\n",
              "    </tr>\n",
              "    <tr>\n",
              "      <th>8</th>\n",
              "      <td>8</td>\n",
              "      <td>[format, for, unam, tujuan, isi, mention, conf...</td>\n",
              "      <td>0</td>\n",
              "    </tr>\n",
              "    <tr>\n",
              "      <th>9</th>\n",
              "      <td>9</td>\n",
              "      <td>[nmax, diserempet, mobil, box, jne, untung, ka...</td>\n",
              "      <td>0</td>\n",
              "    </tr>\n",
              "    <tr>\n",
              "      <th>10</th>\n",
              "      <td>10</td>\n",
              "      <td>[rt, wt, skintif, mugwort, clay, stick, new, b...</td>\n",
              "      <td>1</td>\n",
              "    </tr>\n",
              "    <tr>\n",
              "      <th>11</th>\n",
              "      <td>11</td>\n",
              "      <td>[hadeh, bener, dah, udh, hari, ga, nyamp, bara...</td>\n",
              "      <td>0</td>\n",
              "    </tr>\n",
              "    <tr>\n",
              "      <th>12</th>\n",
              "      <td>12</td>\n",
              "      <td>[ar, ya, bs, juga, bgt, klu, komparasinya, ke,...</td>\n",
              "      <td>0</td>\n",
              "    </tr>\n",
              "    <tr>\n",
              "      <th>13</th>\n",
              "      <td>13</td>\n",
              "      <td>[udah, kayak, ngirim, ke, luar, negeri, aja, j...</td>\n",
              "      <td>0</td>\n",
              "    </tr>\n",
              "    <tr>\n",
              "      <th>14</th>\n",
              "      <td>14</td>\n",
              "      <td>[halo, warga, bali, mau, kirim, paket, tapi, b...</td>\n",
              "      <td>0</td>\n",
              "    </tr>\n",
              "  </tbody>\n",
              "</table>\n",
              "</div>\n",
              "      <button class=\"colab-df-convert\" onclick=\"convertToInteractive('df-1cca2116-1542-4a3c-bf41-a7dcc4d3dcd9')\"\n",
              "              title=\"Convert this dataframe to an interactive table.\"\n",
              "              style=\"display:none;\">\n",
              "        \n",
              "  <svg xmlns=\"http://www.w3.org/2000/svg\" height=\"24px\"viewBox=\"0 0 24 24\"\n",
              "       width=\"24px\">\n",
              "    <path d=\"M0 0h24v24H0V0z\" fill=\"none\"/>\n",
              "    <path d=\"M18.56 5.44l.94 2.06.94-2.06 2.06-.94-2.06-.94-.94-2.06-.94 2.06-2.06.94zm-11 1L8.5 8.5l.94-2.06 2.06-.94-2.06-.94L8.5 2.5l-.94 2.06-2.06.94zm10 10l.94 2.06.94-2.06 2.06-.94-2.06-.94-.94-2.06-.94 2.06-2.06.94z\"/><path d=\"M17.41 7.96l-1.37-1.37c-.4-.4-.92-.59-1.43-.59-.52 0-1.04.2-1.43.59L10.3 9.45l-7.72 7.72c-.78.78-.78 2.05 0 2.83L4 21.41c.39.39.9.59 1.41.59.51 0 1.02-.2 1.41-.59l7.78-7.78 2.81-2.81c.8-.78.8-2.07 0-2.86zM5.41 20L4 18.59l7.72-7.72 1.47 1.35L5.41 20z\"/>\n",
              "  </svg>\n",
              "      </button>\n",
              "      \n",
              "  <style>\n",
              "    .colab-df-container {\n",
              "      display:flex;\n",
              "      flex-wrap:wrap;\n",
              "      gap: 12px;\n",
              "    }\n",
              "\n",
              "    .colab-df-convert {\n",
              "      background-color: #E8F0FE;\n",
              "      border: none;\n",
              "      border-radius: 50%;\n",
              "      cursor: pointer;\n",
              "      display: none;\n",
              "      fill: #1967D2;\n",
              "      height: 32px;\n",
              "      padding: 0 0 0 0;\n",
              "      width: 32px;\n",
              "    }\n",
              "\n",
              "    .colab-df-convert:hover {\n",
              "      background-color: #E2EBFA;\n",
              "      box-shadow: 0px 1px 2px rgba(60, 64, 67, 0.3), 0px 1px 3px 1px rgba(60, 64, 67, 0.15);\n",
              "      fill: #174EA6;\n",
              "    }\n",
              "\n",
              "    [theme=dark] .colab-df-convert {\n",
              "      background-color: #3B4455;\n",
              "      fill: #D2E3FC;\n",
              "    }\n",
              "\n",
              "    [theme=dark] .colab-df-convert:hover {\n",
              "      background-color: #434B5C;\n",
              "      box-shadow: 0px 1px 3px 1px rgba(0, 0, 0, 0.15);\n",
              "      filter: drop-shadow(0px 1px 2px rgba(0, 0, 0, 0.3));\n",
              "      fill: #FFFFFF;\n",
              "    }\n",
              "  </style>\n",
              "\n",
              "      <script>\n",
              "        const buttonEl =\n",
              "          document.querySelector('#df-1cca2116-1542-4a3c-bf41-a7dcc4d3dcd9 button.colab-df-convert');\n",
              "        buttonEl.style.display =\n",
              "          google.colab.kernel.accessAllowed ? 'block' : 'none';\n",
              "\n",
              "        async function convertToInteractive(key) {\n",
              "          const element = document.querySelector('#df-1cca2116-1542-4a3c-bf41-a7dcc4d3dcd9');\n",
              "          const dataTable =\n",
              "            await google.colab.kernel.invokeFunction('convertToInteractive',\n",
              "                                                     [key], {});\n",
              "          if (!dataTable) return;\n",
              "\n",
              "          const docLinkHtml = 'Like what you see? Visit the ' +\n",
              "            '<a target=\"_blank\" href=https://colab.research.google.com/notebooks/data_table.ipynb>data table notebook</a>'\n",
              "            + ' to learn more about interactive tables.';\n",
              "          element.innerHTML = '';\n",
              "          dataTable['output_type'] = 'display_data';\n",
              "          await google.colab.output.renderOutput(dataTable, element);\n",
              "          const docLink = document.createElement('div');\n",
              "          docLink.innerHTML = docLinkHtml;\n",
              "          element.appendChild(docLink);\n",
              "        }\n",
              "      </script>\n",
              "    </div>\n",
              "  </div>\n",
              "  "
            ]
          },
          "metadata": {},
          "execution_count": 47
        }
      ]
    },
    {
      "cell_type": "code",
      "source": [
        "csv_data['label'].value_counts()"
      ],
      "metadata": {
        "colab": {
          "base_uri": "https://localhost:8080/"
        },
        "id": "cP6u7-_OwOcG",
        "outputId": "d2d43ccd-c6fa-4b98-b39b-b889e0ef3226"
      },
      "execution_count": 48,
      "outputs": [
        {
          "output_type": "execute_result",
          "data": {
            "text/plain": [
              "0    87\n",
              "1    10\n",
              "2     3\n",
              "Name: label, dtype: int64"
            ]
          },
          "metadata": {},
          "execution_count": 48
        }
      ]
    },
    {
      "cell_type": "markdown",
      "source": [
        "#PROSES 3 - TERM WEIGTHING"
      ],
      "metadata": {
        "id": "3e0pGLl2w1nL"
      }
    },
    {
      "cell_type": "code",
      "source": [
        "#menghitung vector\n",
        "def List_function(n):\n",
        "  list_array = np.arange(1,n+1)\n",
        "  return(list_array)\n",
        "\n",
        "from sklearn.feature_extraction.text import CountVectorizer\n",
        "import pandas as pd\n",
        "\n",
        "tfidfvectorizer = CountVectorizer(analyzer='word')\n",
        "tfidf_wm = tfidfvectorizer.fit_transform(csv['Tweet'])\n",
        "tfidf_tokens = tfidfvectorizer.get_feature_names()\n",
        "df_tfidfvect = pd.DataFrame(data = tfidf_wm.toarray(), index=List_function(100))\n",
        "print(\"\\nTF-IDF Vectorizer\\n\")\n",
        "print(df_tfidfvect)\n"
      ],
      "metadata": {
        "colab": {
          "base_uri": "https://localhost:8080/"
        },
        "id": "bW2DXjvnxEIl",
        "outputId": "6877dc72-3ec9-49b0-aab8-aa7caaf2dca1"
      },
      "execution_count": 84,
      "outputs": [
        {
          "output_type": "stream",
          "name": "stdout",
          "text": [
            "\n",
            "TF-IDF Vectorizer\n",
            "\n",
            "     0    1    2    3    4    5    6    7    8    9    ...  874  875  876  \\\n",
            "1      0    0    0    0    0    0    0    0    0    0  ...    0    0    0   \n",
            "2      0    0    0    0    0    0    0    0    0    0  ...    0    0    0   \n",
            "3      0    0    0    0    0    0    0    0    0    0  ...    0    0    0   \n",
            "4      0    0    0    0    0    0    0    0    0    0  ...    0    0    0   \n",
            "5      0    0    0    0    0    0    0    0    0    0  ...    0    0    1   \n",
            "..   ...  ...  ...  ...  ...  ...  ...  ...  ...  ...  ...  ...  ...  ...   \n",
            "96     0    0    0    0    0    0    0    0    0    0  ...    0    0    0   \n",
            "97     0    0    0    0    0    0    0    0    0    0  ...    0    0    0   \n",
            "98     0    0    0    0    0    0    0    0    0    0  ...    0    0    1   \n",
            "99     0    0    0    0    0    0    0    0    0    0  ...    0    0    1   \n",
            "100    0    0    0    0    0    0    0    0    0    0  ...    0    0    0   \n",
            "\n",
            "     877  878  879  880  881  882  883  \n",
            "1      0    0    0    0    0    0    0  \n",
            "2      0    0    0    0    0    0    0  \n",
            "3      0    0    0    0    0    0    0  \n",
            "4      0    0    0    0    0    0    0  \n",
            "5      0    0    0    0    0    0    0  \n",
            "..   ...  ...  ...  ...  ...  ...  ...  \n",
            "96     0    0    0    0    0    0    0  \n",
            "97     0    0    0    0    0    0    0  \n",
            "98     0    0    1    1    1    1    0  \n",
            "99     0    0    1    1    1    1    0  \n",
            "100    0    0    0    0    0    0    0  \n",
            "\n",
            "[100 rows x 884 columns]\n"
          ]
        },
        {
          "output_type": "stream",
          "name": "stderr",
          "text": [
            "/usr/local/lib/python3.8/dist-packages/sklearn/utils/deprecation.py:87: FutureWarning: Function get_feature_names is deprecated; get_feature_names is deprecated in 1.0 and will be removed in 1.2. Please use get_feature_names_out instead.\n",
            "  warnings.warn(msg, category=FutureWarning)\n"
          ]
        }
      ]
    },
    {
      "cell_type": "code",
      "source": [
        "#mengubah menjadi vector term\n",
        "\n",
        "from sklearn.feature_extraction.text import CountVectorizer\n",
        "cv = CountVectorizer()\n",
        "X_train_cv = cv.fit_transform(x_train)\n",
        "X_test_cv = cv.transform(x_test)"
      ],
      "metadata": {
        "id": "meKtNZi1726s"
      },
      "execution_count": 85,
      "outputs": []
    },
    {
      "cell_type": "code",
      "source": [
        "X_test_cv[1:1]"
      ],
      "metadata": {
        "colab": {
          "base_uri": "https://localhost:8080/"
        },
        "id": "LUA9H5Lp8d32",
        "outputId": "aeda0be7-d6c1-438c-8f86-1febf0235f4d"
      },
      "execution_count": 87,
      "outputs": [
        {
          "output_type": "execute_result",
          "data": {
            "text/plain": [
              "<0x752 sparse matrix of type '<class 'numpy.int64'>'\n",
              "\twith 0 stored elements in Compressed Sparse Row format>"
            ]
          },
          "metadata": {},
          "execution_count": 87
        }
      ]
    },
    {
      "cell_type": "code",
      "source": [
        "#menggunakan perhitungan TF-IDF\n",
        "from sklearn.model_selection import train_test_split\n",
        "\n",
        "x = csv_data['label']\n",
        "y = csv_data['label']\n",
        "\n",
        "x_train, x_test, y_train, y_test = train_test_split(x, y, test_size=0.2)"
      ],
      "metadata": {
        "id": "m5A3w6sr8qFh"
      },
      "execution_count": 88,
      "outputs": []
    },
    {
      "cell_type": "code",
      "source": [
        "x_train"
      ],
      "metadata": {
        "colab": {
          "base_uri": "https://localhost:8080/"
        },
        "id": "cnNFrk409Yp3",
        "outputId": "5c6bf692-212d-4a88-a9f6-5b1c0e0fa0b9"
      },
      "execution_count": 89,
      "outputs": [
        {
          "output_type": "execute_result",
          "data": {
            "text/plain": [
              "90    0\n",
              "1     0\n",
              "5     1\n",
              "89    0\n",
              "0     0\n",
              "     ..\n",
              "87    0\n",
              "7     0\n",
              "64    0\n",
              "39    0\n",
              "86    0\n",
              "Name: label, Length: 80, dtype: object"
            ]
          },
          "metadata": {},
          "execution_count": 89
        }
      ]
    },
    {
      "cell_type": "code",
      "source": [
        "len(x_train)"
      ],
      "metadata": {
        "colab": {
          "base_uri": "https://localhost:8080/"
        },
        "id": "NLlg1WUJ9aYI",
        "outputId": "39bd5981-5e7c-4398-a64a-8b20028492c0"
      },
      "execution_count": 90,
      "outputs": [
        {
          "output_type": "execute_result",
          "data": {
            "text/plain": [
              "80"
            ]
          },
          "metadata": {},
          "execution_count": 90
        }
      ]
    },
    {
      "cell_type": "code",
      "source": [
        "x_test"
      ],
      "metadata": {
        "colab": {
          "base_uri": "https://localhost:8080/"
        },
        "id": "lqHELw9j9c2i",
        "outputId": "db8cfe50-4740-48b5-d0d4-445d3bec670d"
      },
      "execution_count": 91,
      "outputs": [
        {
          "output_type": "execute_result",
          "data": {
            "text/plain": [
              "33    1\n",
              "12    0\n",
              "37    0\n",
              "41    0\n",
              "79    1\n",
              "66    0\n",
              "48    0\n",
              "10    1\n",
              "92    1\n",
              "59    0\n",
              "23    0\n",
              "62    0\n",
              "67    0\n",
              "60    0\n",
              "95    0\n",
              "47    0\n",
              "63    0\n",
              "40    0\n",
              "70    0\n",
              "76    1\n",
              "Name: label, dtype: object"
            ]
          },
          "metadata": {},
          "execution_count": 91
        }
      ]
    },
    {
      "cell_type": "code",
      "source": [
        "len(x_test)"
      ],
      "metadata": {
        "colab": {
          "base_uri": "https://localhost:8080/"
        },
        "id": "ZqcN-eCI9eXp",
        "outputId": "3b5178f4-3c22-4715-8867-b5f30e3fe44f"
      },
      "execution_count": 92,
      "outputs": [
        {
          "output_type": "execute_result",
          "data": {
            "text/plain": [
              "20"
            ]
          },
          "metadata": {},
          "execution_count": 92
        }
      ]
    },
    {
      "cell_type": "markdown",
      "source": [
        "#PROSES 4 - KLASIFIKASI ALGORITMA K-NN"
      ],
      "metadata": {
        "id": "p9Tm6Tie9sTN"
      }
    },
    {
      "cell_type": "code",
      "source": [
        "#pembuatan model KNN\n",
        "from sklearn.neighbors import KNeighborsClassifier\n",
        "classifier = KNeighborsClassifier(n_neighbors=3)\n",
        "classifier.fit(X_train_cv, y_train)"
      ],
      "metadata": {
        "colab": {
          "base_uri": "https://localhost:8080/"
        },
        "id": "lp94DPpd94TB",
        "outputId": "4dafd302-bd77-4e51-cd62-12e3bc1725b5"
      },
      "execution_count": 93,
      "outputs": [
        {
          "output_type": "execute_result",
          "data": {
            "text/plain": [
              "KNeighborsClassifier(n_neighbors=3)"
            ]
          },
          "metadata": {},
          "execution_count": 93
        }
      ]
    },
    {
      "cell_type": "code",
      "source": [
        "#prediksi menggunakan data test\n",
        "y_pred = classifier.predict(X_test_cv)\n",
        "print(y_pred)"
      ],
      "metadata": {
        "colab": {
          "base_uri": "https://localhost:8080/"
        },
        "id": "l_S5ROs4Ax74",
        "outputId": "30e1c2a2-7595-4d9d-96be-1c9684885d54"
      },
      "execution_count": 94,
      "outputs": [
        {
          "output_type": "stream",
          "name": "stdout",
          "text": [
            "['0' '0' '0' '0' '0' '0' '0' '0' '0' '0' '0' '0' '0' '0' '0' '0' '0' '0'\n",
            " '0' '0']\n"
          ]
        }
      ]
    },
    {
      "cell_type": "code",
      "source": [
        "from sklearn.metrics import classification_report, confusion_matrix\n",
        "cm = confusion_matrix(y_test, y_pred)\n",
        "cr = classification_report(y_test, y_pred)\n",
        "print(cm)\n",
        "print(cr)"
      ],
      "metadata": {
        "colab": {
          "base_uri": "https://localhost:8080/"
        },
        "id": "rmPtGeqABZhY",
        "outputId": "5855e234-362a-4e18-dd57-5c81f5aac693"
      },
      "execution_count": 97,
      "outputs": [
        {
          "output_type": "stream",
          "name": "stdout",
          "text": [
            "[[15  0]\n",
            " [ 5  0]]\n",
            "              precision    recall  f1-score   support\n",
            "\n",
            "           0       0.75      1.00      0.86        15\n",
            "           1       0.00      0.00      0.00         5\n",
            "\n",
            "    accuracy                           0.75        20\n",
            "   macro avg       0.38      0.50      0.43        20\n",
            "weighted avg       0.56      0.75      0.64        20\n",
            "\n"
          ]
        },
        {
          "output_type": "stream",
          "name": "stderr",
          "text": [
            "/usr/local/lib/python3.8/dist-packages/sklearn/metrics/_classification.py:1318: UndefinedMetricWarning: Precision and F-score are ill-defined and being set to 0.0 in labels with no predicted samples. Use `zero_division` parameter to control this behavior.\n",
            "  _warn_prf(average, modifier, msg_start, len(result))\n",
            "/usr/local/lib/python3.8/dist-packages/sklearn/metrics/_classification.py:1318: UndefinedMetricWarning: Precision and F-score are ill-defined and being set to 0.0 in labels with no predicted samples. Use `zero_division` parameter to control this behavior.\n",
            "  _warn_prf(average, modifier, msg_start, len(result))\n",
            "/usr/local/lib/python3.8/dist-packages/sklearn/metrics/_classification.py:1318: UndefinedMetricWarning: Precision and F-score are ill-defined and being set to 0.0 in labels with no predicted samples. Use `zero_division` parameter to control this behavior.\n",
            "  _warn_prf(average, modifier, msg_start, len(result))\n"
          ]
        }
      ]
    }
  ]
}